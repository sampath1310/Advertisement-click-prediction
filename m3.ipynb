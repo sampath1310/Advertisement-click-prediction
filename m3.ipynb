{
    "nbformat_minor": 1, 
    "cells": [
        {
            "outputs": [], 
            "cell_type": "code", 
            "metadata": {
                "collapsed": true
            }, 
            "execution_count": 1, 
            "source": "# The code was removed by DSX for sharing."
        }, 
        {
            "outputs": [], 
            "cell_type": "code", 
            "metadata": {
                "collapsed": true
            }, 
            "execution_count": 2, 
            "source": "# The code was removed by DSX for sharing."
        }, 
        {
            "outputs": [
                {
                    "name": "stderr", 
                    "output_type": "stream", 
                    "text": "/gpfs/fs01/user/sebe-fe5f7e5ad401e7-5fb1bc63e22e/.local/lib/python2.7/site-packages/ggplot/utils.py:81: FutureWarning: pandas.tslib is deprecated and will be removed in a future version.\nYou can access Timestamp as pandas.Timestamp\n  pd.tslib.Timestamp,\n/gpfs/fs01/user/sebe-fe5f7e5ad401e7-5fb1bc63e22e/.local/lib/python2.7/site-packages/ggplot/stats/smoothers.py:4: FutureWarning: The pandas.lib module is deprecated and will be removed in a future version. These are private functions and can be accessed from pandas._libs.lib instead\n  from pandas.lib import Timestamp\n/gpfs/fs01/user/sebe-fe5f7e5ad401e7-5fb1bc63e22e/.local/lib/python2.7/site-packages/statsmodels/compat/pandas.py:56: FutureWarning: The pandas.core.datetools module is deprecated and will be removed in a future version. Please use the pandas.tseries module instead.\n  from pandas.core import datetools\n"
                }
            ], 
            "cell_type": "code", 
            "metadata": {
                "scrolled": true
            }, 
            "execution_count": 1, 
            "source": "import gc\n\n#from kaggler.online_model import FTRL\nfrom sklearn.feature_extraction import FeatureHasher\nfrom scipy import sparse\nfrom sklearn.model_selection import train_test_split\nimport numpy as np\nimport matplotlib.pyplot as plt\nimport matplotlib\nfrom sklearn.utils import resample\nfrom sklearn import metrics\nimport pandas as pd\nfrom ggplot import *\nfrom scipy import stats\nimport warnings\nwarnings.filterwarnings('ignore')\n\n%matplotlib inline\nmatplotlib.style.use('ggplot')"
        }, 
        {
            "outputs": [], 
            "cell_type": "code", 
            "metadata": {
                "collapsed": true
            }, 
            "execution_count": 4, 
            "source": "train = pd.read_csv(get_object_storage_file_with_credentials_501d5c35b97c40ce8bc204fdd04461d2('MAchine', 'train.csv'))\ntest = pd.read_csv(get_object_storage_file_with_credentials_501d5c35b97c40ce8bc204fdd04461d2('MAchine', 'test.csv'))"
        }, 
        {
            "outputs": [
                {
                    "name": "stdout", 
                    "output_type": "stream", 
                    "text": "(12137810, 10)\n(3706907, 9)\n"
                }
            ], 
            "cell_type": "code", 
            "metadata": {}, 
            "execution_count": 5, 
            "source": "print train.shape\nprint test.shape"
        }, 
        {
            "outputs": [], 
            "cell_type": "code", 
            "metadata": {
                "collapsed": true
            }, 
            "execution_count": null, 
            "source": "trainy=train.loc[:,'click']\ntrain.drop(['click','ID'],axis=1,inplace=True)\ntrain_x,test_x,train_y,test_y=train_test_split(train,trainy,test_size=0.33,random_state=17)"
        }, 
        {
            "outputs": [], 
            "cell_type": "code", 
            "metadata": {
                "collapsed": true
            }, 
            "execution_count": null, 
            "source": ""
        }, 
        {
            "cell_type": "markdown", 
            "metadata": {}, 
            "source": "<h3>Analysing train and test data</h3>"
        }, 
        {
            "outputs": [], 
            "cell_type": "code", 
            "metadata": {
                "collapsed": true
            }, 
            "execution_count": 6, 
            "source": "test_id = test['ID']\ntrain.drop(['ID'],axis=1,inplace=True)\ntest.drop(['ID'],axis=1,inplace=True)"
        }, 
        {
            "outputs": [
                {
                    "name": "stdout", 
                    "output_type": "stream", 
                    "text": "(12137810, 9)\n(3706907, 8)\n"
                }
            ], 
            "cell_type": "code", 
            "metadata": {}, 
            "execution_count": 7, 
            "source": "print train.shape\nprint test.shape"
        }, 
        {
            "outputs": [], 
            "cell_type": "code", 
            "metadata": {
                "collapsed": true
            }, 
            "execution_count": 8, 
            "source": "target =train['click']\ntrain.drop(['click'],axis=1,inplace=True)"
        }, 
        {
            "outputs": [], 
            "cell_type": "code", 
            "metadata": {
                "collapsed": true
            }, 
            "execution_count": 9, 
            "source": "combine =  train.append(test)"
        }, 
        {
            "outputs": [
                {
                    "name": "stdout", 
                    "output_type": "stream", 
                    "text": "(15844717, 8)\n"
                }
            ], 
            "cell_type": "code", 
            "metadata": {}, 
            "execution_count": 10, 
            "source": "print combine.shape"
        }, 
        {
            "outputs": [
                {
                    "name": "stdout", 
                    "output_type": "stream", 
                    "text": "datetime             0\nsiteid         1583291\nofferid              0\ncategory             0\nmerchant             0\ncountrycode          0\nbrowserid       830233\ndevid          2524918\ndtype: int64\n"
                }
            ], 
            "cell_type": "code", 
            "metadata": {
                "scrolled": true
            }, 
            "execution_count": 11, 
            "source": "print combine.isnull().sum()"
        }, 
        {
            "outputs": [
                {
                    "output_type": "execute_result", 
                    "metadata": {}, 
                    "data": {
                        "text/html": "<div>\n<style>\n    .dataframe thead tr:only-child th {\n        text-align: right;\n    }\n\n    .dataframe thead th {\n        text-align: left;\n    }\n\n    .dataframe tbody tr th {\n        vertical-align: top;\n    }\n</style>\n<table border=\"1\" class=\"dataframe\">\n  <thead>\n    <tr style=\"text-align: right;\">\n      <th></th>\n      <th>count</th>\n      <th>mean</th>\n      <th>std</th>\n      <th>min</th>\n      <th>25%</th>\n      <th>50%</th>\n      <th>75%</th>\n      <th>max</th>\n    </tr>\n  </thead>\n  <tbody>\n    <tr>\n      <th>siteid</th>\n      <td>14261426.0</td>\n      <td>5.029348e+06</td>\n      <td>2.891212e+06</td>\n      <td>71.0</td>\n      <td>2539650.0</td>\n      <td>4997276.0</td>\n      <td>7558174.0</td>\n      <td>9999996.0</td>\n    </tr>\n    <tr>\n      <th>offerid</th>\n      <td>15844717.0</td>\n      <td>4.940615e+05</td>\n      <td>2.909011e+05</td>\n      <td>0.0</td>\n      <td>242089.0</td>\n      <td>490933.0</td>\n      <td>746706.0</td>\n      <td>999998.0</td>\n    </tr>\n    <tr>\n      <th>category</th>\n      <td>15844717.0</td>\n      <td>4.186201e+04</td>\n      <td>2.923686e+04</td>\n      <td>97.0</td>\n      <td>14960.0</td>\n      <td>40339.0</td>\n      <td>64452.0</td>\n      <td>99914.0</td>\n    </tr>\n    <tr>\n      <th>merchant</th>\n      <td>15844717.0</td>\n      <td>4.893830e+07</td>\n      <td>2.879568e+07</td>\n      <td>260443.0</td>\n      <td>26391770.0</td>\n      <td>47079934.0</td>\n      <td>74363610.0</td>\n      <td>99770433.0</td>\n    </tr>\n  </tbody>\n</table>\n</div>", 
                        "text/plain": "               count          mean           std       min         25%  \\\nsiteid    14261426.0  5.029348e+06  2.891212e+06      71.0   2539650.0   \nofferid   15844717.0  4.940615e+05  2.909011e+05       0.0    242089.0   \ncategory  15844717.0  4.186201e+04  2.923686e+04      97.0     14960.0   \nmerchant  15844717.0  4.893830e+07  2.879568e+07  260443.0  26391770.0   \n\n                 50%         75%         max  \nsiteid     4997276.0   7558174.0   9999996.0  \nofferid     490933.0    746706.0    999998.0  \ncategory     40339.0     64452.0     99914.0  \nmerchant  47079934.0  74363610.0  99770433.0  "
                    }, 
                    "execution_count": 12
                }
            ], 
            "cell_type": "code", 
            "metadata": {}, 
            "execution_count": 12, 
            "source": "combine.describe().transpose()"
        }, 
        {
            "cell_type": "markdown", 
            "metadata": {}, 
            "source": "Filling missing values"
        }, 
        {
            "outputs": [
                {
                    "name": "stdout", 
                    "output_type": "stream", 
                    "text": "Chrome[nan nan nan ..., nan nan 'Desktop']\nEdge[nan nan nan ..., nan nan 'Tablet']\nFirefox[nan nan nan ..., nan nan 'Mobile']\nGoogle Chrome[nan nan nan ..., nan nan 'Mobile']\nIE[nan nan nan ..., nan nan 'Mobile']\nInternet Explorer[nan nan nan ..., nan nan 'Tablet']\nInternetExplorer[nan nan nan ..., nan nan 'Desktop']\nMozilla[nan nan nan ..., nan nan 'Desktop']\nMozilla Firefox[nan nan nan ..., nan nan 'Desktop']\nOpera[nan nan nan ..., nan nan 'Mobile']\nSafari[nan nan nan ..., nan nan 'Tablet']\nImputation Done\n"
                }
            ], 
            "cell_type": "code", 
            "metadata": {}, 
            "execution_count": 13, 
            "source": "l=['Chrome', 'Edge', 'Firefox', 'Google Chrome', 'IE',\n       'Internet Explorer', 'InternetExplorer', 'Mozilla',\n       'Mozilla Firefox', 'Opera', 'Safari']\nfor i in l:\n    print i + str(np.unique(combine[combine.browserid == i]['devid']))\n    combine.loc[:,'devid'][(\n        combine.loc[:,'browserid'] == i)&(combine.loc[:,'devid'].isnull())] = np.unique(combine.loc[:,'devid'][combine.loc[:,'browserid'] == i])[1]\nprint 'Imputation Done'     "
        }, 
        {
            "outputs": [
                {
                    "name": "stdout", 
                    "output_type": "stream", 
                    "text": "datetime             0\nsiteid         1583291\nofferid              0\ncategory             0\nmerchant             0\ncountrycode          0\nbrowserid       830233\ndevid          2524918\ndtype: int64\n"
                }
            ], 
            "cell_type": "code", 
            "metadata": {
                "scrolled": true
            }, 
            "execution_count": 14, 
            "source": "print combine.isnull().sum()"
        }, 
        {
            "outputs": [], 
            "cell_type": "code", 
            "metadata": {
                "collapsed": true
            }, 
            "execution_count": 15, 
            "source": "combine.browserid[(combine.browserid.isnull())& (combine['devid'] == 'Desktop')]='Mozilla'\ncombine.browserid[(combine.browserid.isnull())& (combine['devid'] == 'Mobile')]='Opera'\ncombine.browserid[(combine.browserid.isnull())& (combine['devid'] == 'Tablet')]='Edge'\ncombine.loc[:,'browserid'][(combine.loc[:,'browserid'].isnull()) & (combine.loc[:,'devid'].isnull())]='Other'\ncombine.loc[:,'devid'][(combine.loc[:,'devid'].isnull())]='Other'"
        }, 
        {
            "outputs": [], 
            "cell_type": "code", 
            "metadata": {
                "collapsed": true
            }, 
            "execution_count": 16, 
            "source": "combine.siteid.fillna(5029348,inplace=True)"
        }, 
        {
            "outputs": [], 
            "cell_type": "code", 
            "metadata": {
                "collapsed": true
            }, 
            "execution_count": 17, 
            "source": "combine=combine.assign(mercat=combine.category*combine.merchant)\ncombine=combine.assign(offcat=combine.offerid*combine.category)\ncombine=combine.assign(meroff=combine.offerid*combine.merchant)"
        }, 
        {
            "outputs": [], 
            "cell_type": "code", 
            "metadata": {
                "collapsed": true
            }, 
            "execution_count": 19, 
            "source": "combine['datetime'] = pd.to_datetime(combine['datetime'])\ncombine['tweekday'] = combine['datetime'].dt.weekday\ncombine['thour'] = combine['datetime'].dt.hour\ncombine['tminute'] = combine['datetime'].dt.minute"
        }, 
        {
            "outputs": [], 
            "cell_type": "code", 
            "metadata": {
                "collapsed": true
            }, 
            "execution_count": 20, 
            "source": "combine.drop(['datetime'],axis=1,inplace=True)"
        }, 
        {
            "outputs": [], 
            "cell_type": "code", 
            "metadata": {
                "collapsed": true
            }, 
            "execution_count": null, 
            "source": "del train;\ndel test;\ndel train_x,test_x,train_y,test_y;\ngc.collect()"
        }, 
        {
            "outputs": [], 
            "cell_type": "code", 
            "metadata": {
                "collapsed": true
            }, 
            "execution_count": 22, 
            "source": "newtrain = pd.get_dummies(combine[0:12137810])"
        }, 
        {
            "outputs": [], 
            "cell_type": "code", 
            "metadata": {
                "collapsed": true
            }, 
            "execution_count": 23, 
            "source": "newtest= pd.get_dummies(combine[12137810:])"
        }, 
        {
            "outputs": [
                {
                    "name": "stdout", 
                    "output_type": "stream", 
                    "text": "(12137810, 32)\n(3706907, 32)\n"
                }
            ], 
            "cell_type": "code", 
            "metadata": {}, 
            "execution_count": 24, 
            "source": "print newtrain.shape\nprint newtest.shape"
        }, 
        {
            "outputs": [], 
            "cell_type": "code", 
            "metadata": {
                "collapsed": true
            }, 
            "execution_count": 25, 
            "source": "train_x,test_x,train_y,test_y=train_test_split(newtrain[:len(target)],target,test_size=0.33,random_state=17)"
        }, 
        {
            "outputs": [], 
            "cell_type": "code", 
            "metadata": {
                "collapsed": true
            }, 
            "execution_count": 98, 
            "source": "clf = FTRL(a=.05, # alpha in the per-coordinate rate\nb=1., # beta in the per-coordinate rate\nl1=1.5, # L1 regularization parameter\nl2=1.5, # L2 regularization parameter\nn=2**20, # number of hashed features\nepoch=5, # number of epochs\ninteraction=True) "
        }, 
        {
            "outputs": [], 
            "cell_type": "code", 
            "metadata": {
                "collapsed": true
            }, 
            "execution_count": 55, 
            "source": "xtrains=sparse.csr_matrix(train_x)\nxtests=sparse.csr_matrix(test_x)\nstest=sparse.csr_matrix(newtest)"
        }, 
        {
            "outputs": [], 
            "cell_type": "code", 
            "metadata": {
                "collapsed": true
            }, 
            "execution_count": 81, 
            "source": "strains=sparse.csr_matrix(newtrain)"
        }, 
        {
            "outputs": [], 
            "cell_type": "code", 
            "metadata": {
                "collapsed": true
            }, 
            "execution_count": null, 
            "source": "clf.fit(strains,target.values)"
        }, 
        {
            "outputs": [], 
            "cell_type": "code", 
            "metadata": {
                "collapsed": true
            }, 
            "execution_count": null, 
            "source": "fpr, tpr, _ = metrics.roc_curve(test_y, preds)\nauc = metrics.auc(fpr,tpr)\nprint 'AUC Score:'+str(auc)\ndf = pd.DataFrame(dict(fpr=fpr, tpr=tpr))\nggplot(df, aes(x='fpr', y='tpr')) +geom_line() + geom_abline(linetype='dashed')"
        }, 
        {
            "outputs": [], 
            "cell_type": "code", 
            "metadata": {
                "collapsed": true
            }, 
            "execution_count": null, 
            "source": "click=clf.predict(stest)"
        }, 
        {
            "outputs": [], 
            "cell_type": "code", 
            "metadata": {
                "collapsed": true
            }, 
            "execution_count": null, 
            "source": "final =pd.DataFrame(test_id)\nsol = pd.concat([final,pd.DataFrame(click)],axis=1)\nsol.columns =['ID','click']"
        }, 
        {
            "outputs": [], 
            "cell_type": "code", 
            "metadata": {
                "collapsed": true
            }, 
            "execution_count": null, 
            "source": "sol.to_csv('FTRL6.csv',quoting=False,index=False)"
        }, 
        {
            "outputs": [], 
            "cell_type": "code", 
            "metadata": {
                "collapsed": true
            }, 
            "execution_count": null, 
            "source": "put_file(credentials_503,'FTRL6.csv')"
        }, 
        {
            "outputs": [], 
            "cell_type": "code", 
            "metadata": {
                "collapsed": true
            }, 
            "execution_count": null, 
            "source": ""
        }
    ], 
    "metadata": {
        "kernelspec": {
            "display_name": "Python 2 with Spark 2.0", 
            "name": "python2-spark20", 
            "language": "python"
        }, 
        "language_info": {
            "mimetype": "text/x-python", 
            "version": "2.7.11", 
            "pygments_lexer": "ipython2", 
            "name": "python", 
            "nbconvert_exporter": "python", 
            "file_extension": ".py", 
            "codemirror_mode": {
                "name": "ipython", 
                "version": 2
            }
        }
    }, 
    "nbformat": 4
}